{
  "nbformat": 4,
  "nbformat_minor": 0,
  "metadata": {
    "colab": {
      "name": "MNIST_ClothingClassifier.ipynb",
      "provenance": [],
      "collapsed_sections": []
    },
    "kernelspec": {
      "name": "python3",
      "display_name": "Python 3"
    }
  },
  "cells": [
    {
      "cell_type": "code",
      "metadata": {
        "id": "LVcLdPFU6rOw"
      },
      "source": [
        "#Object detection using MNIST fashion dataset\n",
        "#Reference:  https://youtu.be/bemDFpNooA8 \n",
        "\n",
        "%load_ext tensorboard\n",
        "import tensorflow as tf\n",
        "from tensorflow import keras\n",
        "import numpy as np\n",
        "from datetime import datetime\n",
        "\n",
        "print(tf.__version__)\n",
        "\n",
        "#Load dataset splitting between 'train' and 'test' subsets (60K train, 10K test)\n",
        "#Separate train/test to prevent bias decisions (use blind data to test)\n",
        "#Train labels are numbers, not text to support multiple languages\n",
        "fashionMNIST = keras.datasets.fashion_mnist\n",
        "(trainImages, trainLabels), (testImages, testLabels) = fashionMNIST.load_data()\n",
        "\n",
        "#Show values from the images (one of the articles of clothing)\n",
        "import matplotlib.pyplot as plt\n",
        "plt.imshow(trainImages[5])\n",
        "print(trainLabels[5])\n",
        "print(trainImages[5])\n",
        "\n",
        "#Normalize the images so values range between 0..1\n",
        "#Since each pixel is 8 bits we can do this by dividing by 255.0\n",
        "trainImages = trainImages/255.0\n",
        "testImages = testImages/255.0\n",
        "\n",
        "#Setup logs for tensorboard -- didn't work here....\n",
        "log_dir = \"/tmp/logs/fit/\" + datetime.now().strftime(\"%Y%m%d-%H%M%S\")\n",
        "tensorboard_callback = tf.keras.callbacks.TensorBoard(log_dir=log_dir, histogram_freq=1)\n",
        "\n",
        "#Define the Neural Network architecture (1 input layer, 1 hidden layer, 1 output layer)\n",
        "#Input is the 28x28 images --> input_shape=(28,28) and we flatten to 784x1 vector\n",
        "#Output is the number of categories --> 10 for the fashion_mnist dataset\n",
        "#Units is 128 --> number of neurons in the hidden layer \n",
        "#Activation is a decision function that quantizes the output based on some rules\n",
        "#   relu == rectified linear unit\n",
        "#   softmax picks the 'best' number in a set based on probabilities\n",
        "model = keras.Sequential([\n",
        "      keras.layers.Flatten(input_shape=(28,28)),\n",
        "      keras.layers.Dense(128, activation=tf.nn.relu),\n",
        "      keras.layers.Dense(10, activation=tf.nn.softmax)\n",
        "])\n",
        "#Initialize model with random values and calculate loss function and accuracy\n",
        "#model.compile(optimizer=tf.train.AdamOptimizer(),  tf.train.AdamOptimizer is no longer supported in TensorFlow v2\n",
        "model.compile(optimizer=tf.keras.optimizers.Adam(),\n",
        "              loss='sparse_categorical_crossentropy',\n",
        "              metrics=['accuracy'])\n",
        "\n",
        "\n",
        "#Train the model with the training data then evaluate with the test data\n",
        "model.fit(trainImages, trainLabels, epochs=50, callbacks=[tensorboard_callback])\n",
        "testLoss, testAcc = model.evaluate(testImages, testLabels)\n"
      ],
      "execution_count": null,
      "outputs": []
    },
    {
      "cell_type": "code",
      "metadata": {
        "id": "u0ln3404b9Ko"
      },
      "source": [
        "#Predict for new images - use some random ones from the dataset\n",
        "print('\\n--------TEST with random images -------')\n",
        "\n",
        "#Get some random test images\n",
        "#The original load randomly split the images between train and test\n",
        "myTestImages, myTestLabels = trainImages[0:50], trainLabels[0:50]\n",
        "\n",
        "#Make predictions from the trained model on the random input images\n",
        "predictions = model.predict(myTestImages)\n",
        "\n",
        "#Create 1 row with 4 figures\n",
        "fig, ax = plt.subplots(nrows=1, ncols=4, figsize=(16,8))\n",
        "pltCnt = 0\n",
        "\n",
        "#Show the image and its label then print the predicted label\n",
        "from random import randint\n",
        "\n",
        "for i in [randint(0, 49),randint(0, 49),randint(0, 49),randint(0, 49)]:\n",
        "  ax[pltCnt].imshow(myTestImages[i]) \n",
        "  print('Test Image label: ', myTestLabels[i])\n",
        "  print('Predicted label: ', np.argmax(predictions[i]), 'Predicted Probability: ', np.amax(predictions[i]), '\\n')\n",
        "  pltCnt+=1\n",
        "\n"
      ],
      "execution_count": null,
      "outputs": []
    }
  ]
}