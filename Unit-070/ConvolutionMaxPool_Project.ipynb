{
  "nbformat": 4,
  "nbformat_minor": 0,
  "metadata": {
    "colab": {
      "name": "ConvolutionMaxPool_Project_UPDATED.ipynb",
      "provenance": [],
      "toc_visible": true
    },
    "kernelspec": {
      "name": "python3",
      "display_name": "Python 3"
    }
  },
  "cells": [
    {
      "cell_type": "markdown",
      "metadata": {
        "id": "lfpTFSJq8d8H"
      },
      "source": [
        "# STEP 1:  Preprocessing - 1\n",
        "(a)  Import the following libraries:  \n",
        "-  cv2  \n",
        "-  numpy and assign as a reference var (e.g. import numpy as np)  \n",
        "-  misc from scipy  (e.g. from scipy import misc)\n",
        "-  matplotlib.pyplot and assign as a variable (e.g. plt)\n",
        "\n",
        "(b)  Assign **misc.ascent()** to a variable.  \n"
      ]
    },
    {
      "cell_type": "code",
      "metadata": {
        "id": "eYbgRNv99ALQ"
      },
      "source": [
        "#Import libraries and example image\n"
      ],
      "execution_count": null,
      "outputs": []
    },
    {
      "cell_type": "markdown",
      "metadata": {
        "id": "SXq-O7oG9CvF"
      },
      "source": [
        "# STEP 2: Preprocessing - 2\n",
        "Plot the input image using functions from the matplot library: **plt.gray()** (sets plot colormap to gray) **plt.imshow(Your misc.ascent var here)** (displays the image).  \n",
        "It should look like this:  \n",
        "![alt text](https://drive.google.com/uc?id=1fJESAJL6CCDs8_ttVz1sDp-qVYPGYdpY)\n",
        "\n",
        "The image pixel values are accessed with the following indices (note, the y coordinate increases as you move down the image) :\n",
        "$$ I =\n",
        "\\begin{bmatrix}\n",
        "(0,0) & (0,1) & (0,2) & (0,3) & ...\\\\\n",
        "(1,0) & (1,1) & (1,2) & (1,3) & ...\\\\\n",
        "(2,0) & (2,1) & (2,2) & (2,3) & ...\\\\\n",
        "(3,0) & (3,1) & (3,2) & (3,3) & ...\\\\\n",
        "\\end{bmatrix}\n",
        "$$  \n"
      ]
    },
    {
      "cell_type": "code",
      "metadata": {
        "id": "Zjsu-KRt-Wsb"
      },
      "source": [
        "#Plot the original image\n"
      ],
      "execution_count": null,
      "outputs": []
    },
    {
      "cell_type": "markdown",
      "metadata": {
        "id": "BzuadKCiEoOl"
      },
      "source": [
        "# STEP 3: Preprocessing - 3\n",
        "Save the horizontal and vertical dimensions of the image.  \n",
        "Use the following attributes of the numpy array: **i_transformed.shape[0]** for horizontal and **i_transformed.shape[1]** for vertical.\n",
        "\n",
        "The dimensions should be 512x512 as shown by the image above.\n",
        "\n",
        " "
      ]
    },
    {
      "cell_type": "code",
      "metadata": {
        "id": "gWpSWcWjFSH8"
      },
      "source": [
        "#Save the dimensions of the horizontal and vertical dimensions\n",
        "i_transformed = np.copy(i)\n",
        "\n",
        "#dimX = ???\n",
        "#dimY = ???"
      ],
      "execution_count": null,
      "outputs": []
    },
    {
      "cell_type": "markdown",
      "metadata": {
        "id": "Rb9vBY6LG2xA"
      },
      "source": [
        "# STEP 4: Preprocessing - 4 \n",
        "Create the coefficients for a 3x3 Convolutional filter.  \n",
        "You may choose random numbers for the coeffs but make sure the sum of all of them adds up to 0.\n",
        "\n",
        "The filter intialization should have the format:  filter = [ [x0, x1, x2], [y0, y1, y2], [z0, z1, z2] ].  \n",
        "which creates the matrix: \n",
        "$$ I =\n",
        "\\begin{bmatrix}\n",
        "a0 & a1 & a2\\\\\n",
        "b0 & b1 & b2\\\\\n",
        "c0 & c1 & c2\n",
        "\\end{bmatrix}\n",
        "$$   \n",
        "and has the following indices when accessing the elements:\n",
        "$$ I =\n",
        "\\begin{bmatrix}\n",
        "(0,0) & (0,1) & (0,2)  \\\\\n",
        "(1,0) & (1,1) & (1,2)  \\\\\n",
        "(2,0) & (2,1) & (2,2)  \n",
        "\\end{bmatrix}\n",
        "$$  "
      ]
    },
    {
      "cell_type": "code",
      "metadata": {
        "id": "s2Udn9hQ8H4Q"
      },
      "source": [
        "#Create the 3x3 convolutional filter coefficients.\n",
        "#The coefficients should sum to 0\n"
      ],
      "execution_count": null,
      "outputs": []
    },
    {
      "cell_type": "markdown",
      "metadata": {
        "id": "SG8G0SYLJwZJ"
      },
      "source": [
        "# STEP 5: Convolution\n",
        "- Loop over the horizontal and vertical axes and apply the filter via summing the products of each pixel by its corresponding filter element (see the lecture slides for a detailed description).   You'll need to come up with the offset calculations to access each element in the coefficient matrix.\n",
        "See the section notes above for hints on the index mapping for the image and the filter coefficents.  Also, limit the filtered pixel values to its min or max value (for 8 bits it will be 0 or 255).\n",
        "- Plot the resultant filtered image.  It should look like this (should see the edges):  \n",
        "![alt text](https://drive.google.com/uc?id=1KiOYoJ4IA4c6zlnzSkqKKoXtpQd90Krx)"
      ]
    },
    {
      "cell_type": "code",
      "metadata": {
        "id": "bSVtGNs8Yjs6"
      },
      "source": [
        "#Loop over the horizontal and vertical axes and apply the filter\n",
        "#Clamp the output to the min or max pixel values\n",
        "#(for 8 bit pixels it is 0 or 255)\n",
        "\n",
        "for x in range(1,dimX-1):\n",
        "  for y in range(1,dimY-1):\n",
        "      output_pixel = 0.0\n",
        "      #Do the following for over all neighbor pixels, including its own position\n",
        "      #There will be 9 for a 3x3 filter\n",
        "      #You'll need to come up with the offset calculations to access each element in the array.\n",
        "      #output_pixel = output_pixel + ???  #you'll have 9 of these calculations...\n",
        "      \n",
        "      if(output_pixel<0):\n",
        "        output_pixel=0\n",
        "      if(output_pixel>255):\n",
        "        output_pixel=255\n",
        "      i_transformed[x, y] = output_pixel"
      ],
      "execution_count": null,
      "outputs": []
    },
    {
      "cell_type": "markdown",
      "metadata": {
        "id": "hGlAbwTjrIsV"
      },
      "source": [
        "# STEP 6: Max Pooling\n",
        "1. Downsample the convolution filtered image by 2.  Create two vars that are the original image dimensions divided by 2, one for the x axis and another for the y axis. By default dimX/2 and dimY/2 will be a float value, so you will need to cast the value to an int.\n",
        "1. Initialize a new 2d array with the new halved dimensions to store the resultant pixel values. The np.zeros(x,y) function initializes a 2d array with dimensions x and y with each value in the array defaulting to 0. This will hold the pixel values for the downsampled image.\n",
        "1. Loop over the original image x axis size and y axis size, skipping every other sample to implement the downsampling, e.g. **for x in range(0, size_x, 2):**\n",
        "1. Create an empty list and append each of the four pixel values within each cluster to the list.\n",
        "1. Sort the list using **sort(reverse=True)**, this will sort the list from largest pixel value to lowest.\n",
        "1. Store the sorted pixel value[0] to the new array.  This will be the max value from the pool.\n",
        "1. Plot the resultant max pooled image.  It should look like this (edges should be maintained):  \n",
        "![alt text](https://drive.google.com/uc?id=19qlKbrqgBuFKIF6RkMw6SnnLa0CgtNod)\n",
        "\n",
        "Note that the x-axis and y-axis now only go up to 256, showing that the image's size has successfully been reduced.\n",
        "\n",
        "\n"
      ]
    },
    {
      "cell_type": "code",
      "metadata": {
        "id": "xmylhsxOsHvz"
      },
      "source": [
        "#Implement max pooling\n",
        "#Downsample original image by 2\n",
        "#Find the max value in the pool (use sort)\n",
        "#Plot the resultant image\n"
      ],
      "execution_count": null,
      "outputs": []
    },
    {
      "cell_type": "markdown",
      "metadata": {
        "id": "7n-xVT4fx--m"
      },
      "source": [
        "# STEP 7:  On your own\n",
        "**Implement convolution and max pooling on your own images**\n",
        "- Find an image that has distinct (e.g. sharp) edges on it.\n",
        "- Upload it to your Google drive in your Colab Notebooks folder.\n",
        "- If the images size is larger than 512 x 512, then resize it to 512 x 512 (see the code snip in the cell below to resize).  Mount your Google drive using the cell below.\n",
        "- **Part A:** Implement convolution with 3x3 filter and max pooling with downsample by 2 to extract the edge features (you may use the steps above for the filter coefficients and reference code).  Plot the following three images:  original, after convolutional filtering, after max pooling.\n",
        "- **Part B:** Change the max pooling to downsample by 4. Plot the image after max pooling. Note any changes you observe in the output image after max pooling.\n",
        "\n",
        "*You will need to upload your images in the following assignment so download and save them (right click the image in the colab console output and save-as to your drive.*"
      ]
    },
    {
      "cell_type": "code",
      "metadata": {
        "id": "4GKwTco92xS5"
      },
      "source": [
        "from google.colab import drive\n",
        "drive.mount('/content/drive')"
      ],
      "execution_count": null,
      "outputs": []
    },
    {
      "cell_type": "code",
      "metadata": {
        "id": "x0htOpb6ykEi"
      },
      "source": [
        "from PIL import Image\n",
        "\n",
        "im = Image.open('/content/drive/My Drive/Colab Notebooks/YOUR_IMAGE_NAME_HERE.jpg').convert(\"L\")\n",
        "\n",
        "new_width  = 512\n",
        "new_height = 512\n",
        "im = im.resize((new_width, new_height), Image.ANTIALIAS)\n",
        "im = np.copy(im)\n",
        "\n",
        "plt.gray()\n",
        "plt.grid(False)\n",
        "plt.imshow(im)\n",
        "plt.show() \n",
        "print(im)"
      ],
      "execution_count": null,
      "outputs": []
    },
    {
      "cell_type": "code",
      "metadata": {
        "id": "Czo5tuCQmkEM"
      },
      "source": [
        "#Read in your image and resize if needed\n",
        "#Part A:  Implement convolution with a 3x3 filter and max pool downsample by 2.\n",
        "#Part B:  Implement max pool downsample by 4."
      ],
      "execution_count": null,
      "outputs": []
    }
  ]
}